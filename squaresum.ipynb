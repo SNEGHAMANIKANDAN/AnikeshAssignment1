{
 "cells": [
  {
   "cell_type": "code",
   "execution_count": null,
   "id": "6ba3c77c",
   "metadata": {},
   "outputs": [],
   "source": [
    "square numbers and return the sum"
   ]
  },
  {
   "cell_type": "code",
   "execution_count": 3,
   "id": "7e9005fe",
   "metadata": {},
   "outputs": [
    {
     "name": "stdout",
     "output_type": "stream",
     "text": [
      "Enter the first number2\n",
      "Enter the second number3\n",
      "Enter the third number4\n"
     ]
    },
    {
     "data": {
      "text/plain": [
       "29.0"
      ]
     },
     "execution_count": 3,
     "metadata": {},
     "output_type": "execute_result"
    }
   ],
   "source": [
    "class SquareSum:\n",
    "    def __init__(self):\n",
    "        self.x = 0\n",
    "        self.y = 0\n",
    "        self.z = 0\n",
    "        self.sqsum = 0\n",
    "        \n",
    "    def set_num(self):\n",
    "        self.x=int(input(\"Enter the first number\"))\n",
    "        self.y=int(input(\"Enter the second number\"))\n",
    "        self.z=int(input(\"Enter the third number\"))\n",
    "    \n",
    "    def sqSum(self):\n",
    "        self.x = self.x**2\n",
    "        self.y = self.y**2.\n",
    "        self.z = self.z**2\n",
    "        self.sqsum= self.x +self.y +self.z\n",
    "        \n",
    "    def get_sqSum(self):\n",
    "        return self.sqsum\n",
    "        \n",
    "squaresum=SquareSum()\n",
    "squaresum.set_num()\n",
    "squaresum.sqSum()\n",
    "squaresum.get_sqSum()"
   ]
  },
  {
   "cell_type": "code",
   "execution_count": null,
   "id": "478c4bba",
   "metadata": {},
   "outputs": [],
   "source": []
  }
 ],
 "metadata": {
  "kernelspec": {
   "display_name": "Python 3 (ipykernel)",
   "language": "python",
   "name": "python3"
  },
  "language_info": {
   "codemirror_mode": {
    "name": "ipython",
    "version": 3
   },
   "file_extension": ".py",
   "mimetype": "text/x-python",
   "name": "python",
   "nbconvert_exporter": "python",
   "pygments_lexer": "ipython3",
   "version": "3.10.1"
  }
 },
 "nbformat": 4,
 "nbformat_minor": 5
}
