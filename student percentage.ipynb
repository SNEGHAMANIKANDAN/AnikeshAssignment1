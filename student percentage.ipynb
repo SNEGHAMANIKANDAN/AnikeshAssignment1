{
 "cells": [
  {
   "cell_type": "code",
   "execution_count": null,
   "id": "06ab1bc7",
   "metadata": {},
   "outputs": [],
   "source": [
    "student percentage"
   ]
  },
  {
   "cell_type": "code",
   "execution_count": 3,
   "id": "e56857fa",
   "metadata": {},
   "outputs": [
    {
     "name": "stdout",
     "output_type": "stream",
     "text": [
      "Enter the name of the Student Snegha\n",
      "Enter the physics marks of student out of hundred Snegha80\n",
      "Enter the chemistry marks of student Snegha70\n",
      "Enter the biology marks of student Snegha90\n"
     ]
    },
    {
     "data": {
      "text/plain": [
       "80.0"
      ]
     },
     "execution_count": 3,
     "metadata": {},
     "output_type": "execute_result"
    }
   ],
   "source": [
    "class Student:\n",
    "    def __init__(self):\n",
    "        self.name = \"\"\n",
    "        self.phy = 0\n",
    "        self.chem = 0\n",
    "        self.bio = 0\n",
    "        \n",
    "    def totalObtained(self):\n",
    "        self.name = input(\"Enter the name of the Student \")\n",
    "        self.phy = int(input(f'Enter the physics marks of student out of hundred {self.name}'))\n",
    "        self.chem = int(input(f'Enter the chemistry marks of student {self.name}'))\n",
    "        self.bio = int(input(f'Enter the biology marks of student {self.name}'))\n",
    "        self.total = self.phy + self.chem + self.bio\n",
    "        \n",
    "    def percentage(self):\n",
    "        self.percentage = (self.total/300)*100\n",
    "        return self.percentage\n",
    "    \n",
    "student=Student()\n",
    "student.totalObtained()\n",
    "student.percentage()"
   ]
  },
  {
   "cell_type": "code",
   "execution_count": null,
   "id": "7ab8debf",
   "metadata": {},
   "outputs": [],
   "source": []
  }
 ],
 "metadata": {
  "kernelspec": {
   "display_name": "Python 3 (ipykernel)",
   "language": "python",
   "name": "python3"
  },
  "language_info": {
   "codemirror_mode": {
    "name": "ipython",
    "version": 3
   },
   "file_extension": ".py",
   "mimetype": "text/x-python",
   "name": "python",
   "nbconvert_exporter": "python",
   "pygments_lexer": "ipython3",
   "version": "3.10.1"
  }
 },
 "nbformat": 4,
 "nbformat_minor": 5
}
