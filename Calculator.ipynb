{
 "cells": [
  {
   "cell_type": "code",
   "execution_count": null,
   "id": "a7de57c0",
   "metadata": {},
   "outputs": [],
   "source": [
    "Calculator"
   ]
  },
  {
   "cell_type": "code",
   "execution_count": 3,
   "id": "eae3149d",
   "metadata": {},
   "outputs": [
    {
     "name": "stdout",
     "output_type": "stream",
     "text": [
      "Enter the number 1 2\n",
      "Enter the number 2 3\n",
      "The additon of the numbers is  5\n",
      "The subtraction of the numbers is -1\n",
      "the multiplication of the numbers is 6\n",
      "the division of the numbers is  0\n"
     ]
    }
   ],
   "source": [
    "class Calculator:\n",
    "    def __init__(self):\n",
    "        self.num1 = 0\n",
    "        self.num2 = 0\n",
    "        \n",
    "    def set_num(self):\n",
    "        self.num1 = int(input(\"Enter the number 1 \"))\n",
    "        self.num2 = int(input(\"Enter the number 2 \"))\n",
    "        \n",
    "    def add(self):\n",
    "        return self.num1+self.num2\n",
    "    \n",
    "    def sub(self):\n",
    "        return self.num1-self.num2\n",
    "    \n",
    "    def mul(self):\n",
    "        return self.num1*self.num2\n",
    "    \n",
    "    def div(self):\n",
    "        return self.num1//self.num2\n",
    "    \n",
    "calculate=Calculator()\n",
    "calculate.set_num()\n",
    "print(\"The additon of the numbers is \" , calculate.add())\n",
    "print(\"The subtraction of the numbers is\", calculate.sub())\n",
    "print(\"the multiplication of the numbers is\" ,calculate.mul())\n",
    "print(\"the division of the numbers is \" ,calculate.div())"
   ]
  },
  {
   "cell_type": "code",
   "execution_count": null,
   "id": "76dbad6a",
   "metadata": {},
   "outputs": [],
   "source": []
  }
 ],
 "metadata": {
  "kernelspec": {
   "display_name": "Python 3 (ipykernel)",
   "language": "python",
   "name": "python3"
  },
  "language_info": {
   "codemirror_mode": {
    "name": "ipython",
    "version": 3
   },
   "file_extension": ".py",
   "mimetype": "text/x-python",
   "name": "python",
   "nbconvert_exporter": "python",
   "pygments_lexer": "ipython3",
   "version": "3.10.1"
  }
 },
 "nbformat": 4,
 "nbformat_minor": 5
}
